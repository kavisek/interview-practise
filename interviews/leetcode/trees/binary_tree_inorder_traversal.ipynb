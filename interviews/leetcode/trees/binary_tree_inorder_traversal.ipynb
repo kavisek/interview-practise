{
 "cells": [
  {
   "cell_type": "markdown",
   "metadata": {},
   "source": [
    "### Breadh First Search\n",
    "\n",
    "- Using BFS, at any instant only L1 and L1+1 nodes are in the queue.\n",
    "- When we start the while loop, we have L1 nodes in the queue.\n",
    "- for _ in range(len(q)) allows us to dequeue L1 nodes one by one and add L2 children one by one.\n",
    "- Time complexity: O(N). Space Complexity: O(N)"
   ]
  },
  {
   "cell_type": "code",
   "execution_count": null,
   "metadata": {},
   "outputs": [],
   "source": [
    "from collections import deque\n",
    "\n",
    "\n",
    "class Solution(object):\n",
    "    def levelOrder(self, root):\n",
    "        \"\"\"\n",
    "        :type root: TreeNode\n",
    "        :rtype: List[List[int]]\n",
    "        \"\"\"\n",
    "        q, result = deque(), []\n",
    "        if root:\n",
    "            q.append(root)\n",
    "        while len(q):\n",
    "            level = []\n",
    "            for _ in range(len(q)):\n",
    "                x = q.popleft()\n",
    "                level.append(x.val)\n",
    "                if x.left:\n",
    "                    q.append(x.left)\n",
    "                if x.right:\n",
    "                    q.append(x.right)\n",
    "            result.append(level)\n",
    "        return result"
   ]
  },
  {
   "cell_type": "markdown",
   "metadata": {},
   "source": [
    "Depth First Search\n",
    "\n",
    "- Use a variable to track level in the tree and use simple Pre-Order traversal\n",
    "- Add sub-lists to result as we move down the levels\n",
    "- Time Complexity: O(N)\n",
    "- Space Complexity: O(N) + O(h) for stack space"
   ]
  },
  {
   "cell_type": "code",
   "execution_count": 3,
   "metadata": {},
   "outputs": [],
   "source": [
    "class Solution(object):\n",
    "\n",
    "    # Recusive Function.\n",
    "    def levelOrder(self, root):\n",
    "        result = []\n",
    "        self.helper(root, 0, result)\n",
    "        return result\n",
    "\n",
    "    def helper(self, root, level, result):\n",
    "        if root is None:\n",
    "            return\n",
    "        if len(result) <= level:\n",
    "            result.append([])\n",
    "        result[level].append(root.val)\n",
    "        self.helper(root.left, level + 1, result)\n",
    "        self.helper(root.right, level + 1, result)"
   ]
  },
  {
   "cell_type": "code",
   "execution_count": 2,
   "metadata": {},
   "outputs": [
    {
     "name": "stdout",
     "output_type": "stream",
     "text": [
      "Done\n"
     ]
    }
   ],
   "source": [
    "print(\"Done\")"
   ]
  },
  {
   "cell_type": "code",
   "execution_count": null,
   "metadata": {},
   "outputs": [],
   "source": []
  }
 ],
 "metadata": {
  "interpreter": {
   "hash": "949777d72b0d2535278d3dc13498b2535136f6dfe0678499012e853ee9abcab1"
  },
  "kernelspec": {
   "display_name": "Python 3.8.13 64-bit",
   "language": "python",
   "name": "python3"
  },
  "language_info": {
   "codemirror_mode": {
    "name": "ipython",
    "version": 3
   },
   "file_extension": ".py",
   "mimetype": "text/x-python",
   "name": "python",
   "nbconvert_exporter": "python",
   "pygments_lexer": "ipython3",
   "version": "3.8.13"
  },
  "orig_nbformat": 4
 },
 "nbformat": 4,
 "nbformat_minor": 2
}
