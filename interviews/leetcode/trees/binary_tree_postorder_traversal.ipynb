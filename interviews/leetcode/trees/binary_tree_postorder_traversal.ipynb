{
 "cells": [
  {
   "cell_type": "markdown",
   "metadata": {},
   "source": [
    "### Recursion Solution"
   ]
  },
  {
   "cell_type": "code",
   "execution_count": null,
   "metadata": {},
   "outputs": [],
   "source": [
    "from typing import Optional\n",
    "class TreeNode:\n",
    "    def __init__(self, val=0, left=None, right=None):\n",
    "        self.val = val\n",
    "        self.left = left\n",
    "        self.right = right\n",
    "class Solution:\n",
    "    def postorderTraversal(self, root: Optional[TreeNode]) -> List[int]:\n",
    "        def postorder(root):\n",
    "            # return if the current node is empty\n",
    "            if root is None:\n",
    "                return\n",
    "        \n",
    "            # Traverse the left subtree\n",
    "            postorder(root.left)\n",
    "        \n",
    "            # Traverse the right subtree\n",
    "            postorder(root.right)\n",
    "        \n",
    "            # Display the data part of the root (or current node)\n",
    "            print(root.data, end=' ')\n",
    "\n",
    "\n",
    "# sol = Solution()\n",
    "# sol.postorderTraversal(root)"
   ]
  },
  {
   "cell_type": "code",
   "execution_count": null,
   "metadata": {},
   "outputs": [],
   "source": []
  }
 ],
 "metadata": {
  "language_info": {
   "name": "python"
  },
  "orig_nbformat": 4
 },
 "nbformat": 4,
 "nbformat_minor": 2
}
