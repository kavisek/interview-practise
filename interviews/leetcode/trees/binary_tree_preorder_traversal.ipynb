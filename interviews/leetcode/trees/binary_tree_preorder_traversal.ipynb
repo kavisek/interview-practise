{
 "cells": [
  {
   "cell_type": "code",
   "execution_count": null,
   "metadata": {},
   "outputs": [],
   "source": [
    "from typing import Optional\n",
    "\n",
    "\n",
    "class TreeNode:\n",
    "    def __init__(self, val=0, left=None, right=None):\n",
    "        self.val = val\n",
    "        self.left = left\n",
    "        self.right = right\n",
    "\n",
    "\n",
    "class Solution:\n",
    "    def preorderTraversal(self, root: Optional[TreeNode]) -> List[int]:\n",
    "        \"\"\"\n",
    "        :type root: TreeNode\n",
    "        :rtype: List[int]\n",
    "        \"\"\"\n",
    "        if root is None:\n",
    "            return []\n",
    "\n",
    "        stack, output = [\n",
    "            root,\n",
    "        ], []\n",
    "\n",
    "        while stack:\n",
    "            # each iteration of the while loop pops the\n",
    "            # left most node.\n",
    "            root = stack.pop()\n",
    "            if root is not None:\n",
    "                output.append(root.val)\n",
    "                if root.right is not None:\n",
    "                    stack.append(root.right)\n",
    "                if root.left is not None:\n",
    "                    stack.append(root.left)\n",
    "\n",
    "        return output"
   ]
  }
 ],
 "metadata": {
  "language_info": {
   "name": "python"
  },
  "orig_nbformat": 4
 },
 "nbformat": 4,
 "nbformat_minor": 2
}
