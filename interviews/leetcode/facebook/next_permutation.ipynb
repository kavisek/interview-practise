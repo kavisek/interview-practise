{
 "cells": [
  {
   "cell_type": "markdown",
   "metadata": {},
   "source": [
    "### First Attempt"
   ]
  },
  {
   "cell_type": "code",
   "execution_count": 41,
   "metadata": {},
   "outputs": [
    {
     "name": "stdout",
     "output_type": "stream",
     "text": [
      "[(1, 2, 3), (1, 3, 2), (2, 1, 3), (2, 3, 1), (3, 1, 2), (3, 2, 1)]\n",
      "next: 1\n",
      "6\n",
      "next: 1\n",
      "(1, 3, 2)\n"
     ]
    },
    {
     "data": {
      "text/plain": [
       "(1, 3, 2)"
      ]
     },
     "execution_count": 41,
     "metadata": {},
     "output_type": "execute_result"
    }
   ],
   "source": [
    "from typing import List\n",
    "class Solution:\n",
    "    def nextPermutation(self, nums: List[int]) -> None:\n",
    "        \"\"\"\n",
    "        Do not return anything, modify nums in-place instead.\n",
    "        \"\"\"\n",
    "        perm = permutations(nums)\n",
    "        options = [i for i in list(perm)]\n",
    "        \n",
    "        \n",
    "        # Next\n",
    "        options = sorted(options)\n",
    "        print(options)\n",
    "        start = options.index(tuple(nums))\n",
    "        next = start + 1\n",
    "        print(f'next: {next}')\n",
    "        print(len(list(options)))\n",
    "        if next >= len(list(options)):\n",
    "            next = 0\n",
    "    \n",
    "        print(f'next: {next}')\n",
    "        print(options[next])\n",
    "        return list(options[next])\n",
    "\n",
    "\n",
    "solution = Solution()\n",
    "# solution.nextPermutation([1,2,3])\n",
    "# solution.nextPermutation([3,2,1])\n",
    "solution.nextPermutation([1,2,3])"
   ]
  },
  {
   "cell_type": "code",
   "execution_count": 55,
   "metadata": {},
   "outputs": [
    {
     "data": {
      "text/plain": [
       "[1, 3, 2]"
      ]
     },
     "execution_count": 55,
     "metadata": {},
     "output_type": "execute_result"
    }
   ],
   "source": [
    "from typing import List\n",
    "class Solution:\n",
    "        \n",
    "\n",
    "    def reverse(self, nums, i, j):\n",
    "        while i < j:\n",
    "            nums[i], nums[j] = nums[j], nums[i]\n",
    "            i += 1\n",
    "            j -= 1\n",
    "\n",
    "\n",
    "    def nextPermutation(self, nums: List[int]):\n",
    "        # Length of the array\n",
    "        n = len(nums)\n",
    "        # Index of the first element that is smaller than\n",
    "        # the element to its right.\n",
    "        index = -1\n",
    "        # Loop from right to left\n",
    "        for i in range(n - 1, 0, -1):\n",
    "            if nums[i] > nums[i - 1]:\n",
    "                index = i - 1\n",
    "                break\n",
    "        # Base condition\n",
    "        if index == -1:\n",
    "            self.reverse(nums, 0, n - 1)\n",
    "            return\n",
    "        j = n - 1\n",
    "        # Again swap from right to left to find first element\n",
    "        # that is greater than the above find element\n",
    "        for i in range(n - 1, index, -1):\n",
    "            if nums[i] > nums[index]:\n",
    "                j = i\n",
    "                break\n",
    "        # Swap the elements\n",
    "        nums[index], nums[j] = nums[j], nums[index]\n",
    "        # Reverse the elements from index + 1 to the nums.length\n",
    "        self.reverse(nums, index + 1, n - 1)\n",
    "\n",
    "            \n",
    "                \n",
    "\n",
    "solution = Solution()\n",
    "x = [1,2,3]\n",
    "solution.nextPermutation(x)\n",
    "x\n"
   ]
  },
  {
   "cell_type": "code",
   "execution_count": 45,
   "metadata": {},
   "outputs": [
    {
     "data": {
      "text/plain": [
       "[13, 12, 11, 10, 9, 8, 7, 6, 5, 4, 3, 2, 1]"
      ]
     },
     "execution_count": 45,
     "metadata": {},
     "output_type": "execute_result"
    }
   ],
   "source": [
    "[i for i in range(14-1, 0, -1)]"
   ]
  },
  {
   "cell_type": "code",
   "execution_count": null,
   "metadata": {},
   "outputs": [],
   "source": []
  }
 ],
 "metadata": {
  "interpreter": {
   "hash": "949777d72b0d2535278d3dc13498b2535136f6dfe0678499012e853ee9abcab1"
  },
  "kernelspec": {
   "display_name": "Python 3.8.13 64-bit",
   "language": "python",
   "name": "python3"
  },
  "language_info": {
   "codemirror_mode": {
    "name": "ipython",
    "version": 3
   },
   "file_extension": ".py",
   "mimetype": "text/x-python",
   "name": "python",
   "nbconvert_exporter": "python",
   "pygments_lexer": "ipython3",
   "version": "3.8.13"
  },
  "orig_nbformat": 4
 },
 "nbformat": 4,
 "nbformat_minor": 2
}
