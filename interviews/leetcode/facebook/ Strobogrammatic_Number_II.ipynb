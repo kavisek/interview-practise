{
 "cells": [
  {
   "cell_type": "code",
   "execution_count": 34,
   "metadata": {},
   "outputs": [
    {
     "data": {
      "text/plain": [
       "['1111',\n",
       " '8118',\n",
       " '6119',\n",
       " '9116',\n",
       " '1691',\n",
       " '8698',\n",
       " '6699',\n",
       " '9696',\n",
       " '1881',\n",
       " '8888',\n",
       " '6889',\n",
       " '9886',\n",
       " '1961',\n",
       " '8968',\n",
       " '6969',\n",
       " '9966',\n",
       " '1001',\n",
       " '8008',\n",
       " '6009',\n",
       " '9006']"
      ]
     },
     "execution_count": 34,
     "metadata": {},
     "output_type": "execute_result"
    }
   ],
   "source": [
    "from typing import List\n",
    "\n",
    "class Solution(object):\n",
    "    def findStrobogrammatic(self, n):\n",
    "\n",
    "        def add_more( n, strs):\n",
    "            new_strs=[]\n",
    "            for s in strs:\n",
    "                if len(s)==n:\n",
    "                    new_strs.append(s)\n",
    "                    #print('here1')\n",
    "                elif len(s)==n-1:\n",
    "                    pass\n",
    "                    #new_strs.append(s)\n",
    "                # print('here3')\n",
    "                elif n-2 == len(s):\n",
    "                    #dont use 0 in last case\n",
    "                    new_strs.append('1'+s+'1')\n",
    "                    new_strs.append('8'+s+'8')\n",
    "                    new_strs.append('6'+s+'9')\n",
    "                    new_strs.append('9'+s+'6')\n",
    "                else: #n-2>= len(s):\n",
    "                    #print('here2')\n",
    "                    #print(s)\n",
    "                    new_strs.append('0'+s+'0')\n",
    "                    new_strs.append('1'+s+'1')\n",
    "                    new_strs.append('8'+s+'8')\n",
    "                    new_strs.append('6'+s+'9')\n",
    "                    new_strs.append('9'+s+'6')\n",
    "            \n",
    "            #print(new_strs)\n",
    "            if len(new_strs[0]) != n:\n",
    "                new_strs = add_more(n, new_strs)\n",
    "            \n",
    "            return new_strs\n",
    "\n",
    "    \n",
    "        #can I add one or two and get to the solution\n",
    "        if n == 1:\n",
    "            return [\"0\",\"1\",\"8\"]\n",
    "        if n == 2:\n",
    "            return [\"11\",\"69\",\"88\",\"96\"]\n",
    "        else:\n",
    "            strs = [\"0\",\"1\",\"8\",\"11\",\"69\",\"88\",\"96\",'00']\n",
    "\n",
    "        return add_more(n, strs)\n",
    "\n",
    "\n",
    "\n",
    "sol = Solution()\n",
    "sol.findStrobogrammatic(n=2)\n",
    "sol.findStrobogrammatic(n=4)"
   ]
  },
  {
   "cell_type": "code",
   "execution_count": null,
   "metadata": {},
   "outputs": [],
   "source": []
  }
 ],
 "metadata": {
  "interpreter": {
   "hash": "949777d72b0d2535278d3dc13498b2535136f6dfe0678499012e853ee9abcab1"
  },
  "kernelspec": {
   "display_name": "Python 3.8.13 64-bit",
   "language": "python",
   "name": "python3"
  },
  "language_info": {
   "codemirror_mode": {
    "name": "ipython",
    "version": 3
   },
   "file_extension": ".py",
   "mimetype": "text/x-python",
   "name": "python",
   "nbconvert_exporter": "python",
   "pygments_lexer": "ipython3",
   "version": "3.8.13"
  },
  "orig_nbformat": 4
 },
 "nbformat": 4,
 "nbformat_minor": 2
}
