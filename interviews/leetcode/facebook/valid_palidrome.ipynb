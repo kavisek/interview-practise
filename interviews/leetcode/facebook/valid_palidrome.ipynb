{
 "cells": [
  {
   "cell_type": "markdown",
   "metadata": {},
   "source": [
    "- remember to lower values, strip white space, and check values are alpha numeric using the `.isalnum` function\n",
    "- return the comparison to return a bolean value."
   ]
  },
  {
   "cell_type": "markdown",
   "metadata": {},
   "source": [
    "### Solution"
   ]
  },
  {
   "cell_type": "code",
   "execution_count": null,
   "metadata": {},
   "outputs": [],
   "source": [
    "class Solution:\n",
    "    def isPalindrome(self, s: str) -> bool:\n",
    "        \n",
    "        pal = [] \n",
    "        for i in s:\n",
    "            if i.isalnum():\n",
    "                pal.append(i.lower())\n",
    "                \n",
    "        pal = \"\".join(pal)\n",
    "        print(pal, pal[::-1])\n",
    "        return pal == pal[::-1]"
   ]
  }
 ],
 "metadata": {
  "interpreter": {
   "hash": "949777d72b0d2535278d3dc13498b2535136f6dfe0678499012e853ee9abcab1"
  },
  "kernelspec": {
   "display_name": "Python 3.8.13 64-bit",
   "language": "python",
   "name": "python3"
  },
  "language_info": {
   "name": "python",
   "version": "3.8.13"
  },
  "orig_nbformat": 4
 },
 "nbformat": 4,
 "nbformat_minor": 2
}
