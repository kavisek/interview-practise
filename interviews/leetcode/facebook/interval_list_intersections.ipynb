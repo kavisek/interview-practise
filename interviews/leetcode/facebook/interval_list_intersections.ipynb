{
 "cells": [
  {
   "cell_type": "markdown",
   "metadata": {},
   "source": [
    "### Attemp 1 - 75/85 cases based - Timeout "
   ]
  },
  {
   "cell_type": "code",
   "execution_count": 40,
   "metadata": {},
   "outputs": [
    {
     "name": "stdout",
     "output_type": "stream",
     "text": [
      "case: {1, 2} : {3, 4, 5}\n",
      "case: {1, 2} : {8, 9, 10, 7}\n",
      "case: {1, 2} : {16, 17, 15}\n",
      "case: {3, 4, 5} : {3, 4, 5}\n",
      "{3, 4, 5}\n",
      "case: {3, 4, 5} : {8, 9, 10, 7}\n",
      "case: {3, 4, 5} : {16, 17, 15}\n",
      "case: {9, 10, 11} : {3, 4, 5}\n",
      "case: {9, 10, 11} : {8, 9, 10, 7}\n",
      "{9, 10}\n",
      "case: {9, 10, 11} : {16, 17, 15}\n",
      "case: {13, 14, 15, 16, 17} : {3, 4, 5}\n",
      "case: {13, 14, 15, 16, 17} : {8, 9, 10, 7}\n",
      "case: {13, 14, 15, 16, 17} : {16, 17, 15}\n",
      "{16, 17, 15}\n",
      "case: {19, 20} : {3, 4, 5}\n",
      "case: {19, 20} : {8, 9, 10, 7}\n",
      "case: {19, 20} : {16, 17, 15}\n"
     ]
    },
    {
     "data": {
      "text/plain": [
       "[[3, 5], [9, 10], [15, 17]]"
      ]
     },
     "execution_count": 40,
     "metadata": {},
     "output_type": "execute_result"
    }
   ],
   "source": [
    "from typing import List\n",
    "\n",
    "\n",
    "class Solution:\n",
    "    def intervalIntersection(\n",
    "        self, firstList: List[List[int]], secondList: List[List[int]]\n",
    "    ) -> List[List[int]]:\n",
    "\n",
    "        results = []\n",
    "        # Base Condition\n",
    "        if len(firstList) == 0 or len(secondList) == 0:\n",
    "            return []\n",
    "\n",
    "        def compare_points(x, y):\n",
    "            xl = set((list(range(x[0], x[1] + 1))))\n",
    "            yl = set((list(range(y[0], y[1] + 1))))\n",
    "            # print(f'case: {xl} : {yl}')\n",
    "            if len(xl.intersection(yl)) == 0:\n",
    "                return []\n",
    "            else:\n",
    "                inter = xl.intersection(yl)\n",
    "                # print(f'inter: {inter}')\n",
    "                inter = sorted(list(inter))\n",
    "                return sorted([inter[0], inter[-1]])\n",
    "\n",
    "        for i in firstList:\n",
    "            for j in secondList:\n",
    "                result = compare_points(i, j)\n",
    "                if len(result) > 0:\n",
    "                    results.append(result)\n",
    "        return results\n",
    "\n",
    "\n",
    "solution = Solution()\n",
    "# solution.intervalIntersection(firstList = [[0,2],[5,10],[13,23],[24,25]], secondList = [[1,5],[8,12],[15,24],[25,26]])\n",
    "# solution.intervalIntersection(firstList = [[5,8],[15,18]], secondList = [[0,3],[7,8],[9,12]])\n",
    "solution.intervalIntersection(\n",
    "    firstList=[[1, 2], [3, 5], [9, 11], [13, 17], [19, 20]],\n",
    "    secondList=[[3, 5], [7, 10], [15, 17]],\n",
    ")"
   ]
  },
  {
   "cell_type": "code",
   "execution_count": 36,
   "metadata": {},
   "outputs": [
    {
     "data": {
      "text/plain": [
       "{15, 16, 17}"
      ]
     },
     "execution_count": 36,
     "metadata": {},
     "output_type": "execute_result"
    }
   ],
   "source": [
    "x = set([13, 14, 15, 16, 17])\n",
    "y = set([15, 16, 17])\n",
    "# m = set([5,4])\n",
    "x.intersection(y)\n",
    "# x.intersection(m)\n",
    "# len(x.intersection(m))"
   ]
  },
  {
   "cell_type": "markdown",
   "metadata": {},
   "source": [
    "# Attempt 2"
   ]
  },
  {
   "cell_type": "code",
   "execution_count": 49,
   "metadata": {},
   "outputs": [
    {
     "data": {
      "text/plain": [
       "[[3, 5], [9, 10], [15, 17]]"
      ]
     },
     "execution_count": 49,
     "metadata": {},
     "output_type": "execute_result"
    }
   ],
   "source": [
    "from typing import List\n",
    "\n",
    "\n",
    "class Solution:\n",
    "    def interval(self, left, right):\n",
    "        return [left, right]\n",
    "\n",
    "    def intervalIntersection(\n",
    "        self, firstList: List[List[int]], secondList: List[List[int]]\n",
    "    ) -> List[List[int]]:\n",
    "\n",
    "        result = []\n",
    "        i, j = 0, 0\n",
    "        while i < len(firstList) and j < len(secondList):\n",
    "            # print(firstList)\n",
    "            # print(secondList)\n",
    "            # print(i,j)\n",
    "            left = max(firstList[i][0], secondList[j][0])\n",
    "            right = min(firstList[i][-1], secondList[j][-1])\n",
    "            if left <= right:\n",
    "                result.append(self.interval(left, right))\n",
    "            if firstList[i][-1] < secondList[j][-1]:\n",
    "                i += 1\n",
    "            else:\n",
    "                j += 1\n",
    "        return result\n",
    "\n",
    "\n",
    "solution = Solution()\n",
    "# solution.intervalIntersection(firstList = [[0,2],[5,10],[13,23],[24,25]], secondList = [[1,5],[8,12],[15,24],[25,26]])\n",
    "# solution.intervalIntersection(firstList = [[5,8],[15,18]], secondList = [[0,3],[7,8],[9,12]])\n",
    "solution.intervalIntersection(\n",
    "    firstList=[[1, 2], [3, 5], [9, 11], [13, 17], [19, 20]],\n",
    "    secondList=[[3, 5], [7, 10], [15, 17]],\n",
    ")"
   ]
  },
  {
   "cell_type": "code",
   "execution_count": null,
   "metadata": {},
   "outputs": [],
   "source": []
  }
 ],
 "metadata": {
  "interpreter": {
   "hash": "949777d72b0d2535278d3dc13498b2535136f6dfe0678499012e853ee9abcab1"
  },
  "kernelspec": {
   "display_name": "Python 3.8.13 64-bit",
   "language": "python",
   "name": "python3"
  },
  "language_info": {
   "codemirror_mode": {
    "name": "ipython",
    "version": 3
   },
   "file_extension": ".py",
   "mimetype": "text/x-python",
   "name": "python",
   "nbconvert_exporter": "python",
   "pygments_lexer": "ipython3",
   "version": "3.8.13"
  },
  "orig_nbformat": 4
 },
 "nbformat": 4,
 "nbformat_minor": 2
}
