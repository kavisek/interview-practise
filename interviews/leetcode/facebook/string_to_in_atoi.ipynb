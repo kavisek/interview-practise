{
 "cells": [
  {
   "cell_type": "code",
   "execution_count": 69,
   "metadata": {},
   "outputs": [
    {
     "data": {
      "text/plain": [
       "0"
      ]
     },
     "execution_count": 69,
     "metadata": {},
     "output_type": "execute_result"
    }
   ],
   "source": [
    "import re\n",
    "import re\n",
    "\n",
    "\n",
    "class Solution:\n",
    "    def myAtoi(self, s: str) -> int:\n",
    "\n",
    "        # Base conditions\n",
    "        if s is None or len(s) < 1:\n",
    "            return 0\n",
    "\n",
    "        INT_MAX = 2**31 - 1\n",
    "        INT_MIN = -(2**31)\n",
    "\n",
    "        # Strip\n",
    "        s = s.strip()\n",
    "\n",
    "        # Counter\n",
    "        i = 0\n",
    "\n",
    "        # flag to indicate if number is negative.\n",
    "        is_negative = len(s) > 1 and s[0] == \"-\"\n",
    "        # flag to indiicate if the number is positive\n",
    "        is_positive = len(s) > 1 and s[0] == \"+\"\n",
    "        if is_negative:\n",
    "            i += 1\n",
    "        if is_positive:\n",
    "            i += 1\n",
    "\n",
    "        number = 0\n",
    "\n",
    "        while i < len(s) and \"0\" <= s[i] <= \"9\":\n",
    "            number = number * 10 + (ord(s[i]) - ord(\"0\"))\n",
    "            i += 1\n",
    "\n",
    "        if is_negative:\n",
    "            number = -number\n",
    "\n",
    "        if number < INT_MIN:\n",
    "            number = INT_MIN\n",
    "        if number > INT_MAX:\n",
    "            number = INT_MAX\n",
    "        return number\n",
    "\n",
    "\n",
    "solution = Solution()\n",
    "solution.myAtoi(\"   -42\")\n",
    "solution.myAtoi(\"words and 987\")\n",
    "solution.myAtoi(\"-91283472332\")\n",
    "solution.myAtoi(\"+-12\")"
   ]
  },
  {
   "cell_type": "code",
   "execution_count": 70,
   "metadata": {},
   "outputs": [
    {
     "data": {
      "text/plain": [
       "2147483648"
      ]
     },
     "execution_count": 70,
     "metadata": {},
     "output_type": "execute_result"
    }
   ],
   "source": [
    "2**31"
   ]
  },
  {
   "cell_type": "code",
   "execution_count": 6,
   "metadata": {},
   "outputs": [
    {
     "data": {
      "text/plain": [
       "True"
      ]
     },
     "execution_count": 6,
     "metadata": {},
     "output_type": "execute_result"
    }
   ],
   "source": [
    "\"stst34\".isalnum()"
   ]
  },
  {
   "cell_type": "code",
   "execution_count": 12,
   "metadata": {},
   "outputs": [
    {
     "data": {
      "text/plain": [
       "['34']"
      ]
     },
     "execution_count": 12,
     "metadata": {},
     "output_type": "execute_result"
    }
   ],
   "source": []
  },
  {
   "cell_type": "code",
   "execution_count": 16,
   "metadata": {},
   "outputs": [
    {
     "data": {
      "text/plain": [
       "['+34']"
      ]
     },
     "execution_count": 16,
     "metadata": {},
     "output_type": "execute_result"
    }
   ],
   "source": []
  },
  {
   "cell_type": "code",
   "execution_count": 20,
   "metadata": {},
   "outputs": [
    {
     "name": "stdout",
     "output_type": "stream",
     "text": [
      "True\n"
     ]
    }
   ],
   "source": [
    "if \"+34\".startswith(\"+\"):\n",
    "    print(True)"
   ]
  },
  {
   "cell_type": "code",
   "execution_count": null,
   "metadata": {},
   "outputs": [],
   "source": []
  }
 ],
 "metadata": {
  "interpreter": {
   "hash": "949777d72b0d2535278d3dc13498b2535136f6dfe0678499012e853ee9abcab1"
  },
  "kernelspec": {
   "display_name": "Python 3.8.13 64-bit",
   "language": "python",
   "name": "python3"
  },
  "language_info": {
   "codemirror_mode": {
    "name": "ipython",
    "version": 3
   },
   "file_extension": ".py",
   "mimetype": "text/x-python",
   "name": "python",
   "nbconvert_exporter": "python",
   "pygments_lexer": "ipython3",
   "version": "3.8.13"
  },
  "orig_nbformat": 4
 },
 "nbformat": 4,
 "nbformat_minor": 2
}
