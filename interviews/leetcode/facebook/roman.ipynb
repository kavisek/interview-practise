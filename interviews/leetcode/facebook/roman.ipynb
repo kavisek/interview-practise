{
 "cells": [
  {
   "cell_type": "code",
   "execution_count": 2,
   "metadata": {},
   "outputs": [
    {
     "data": {
      "text/plain": [
       "1994"
      ]
     },
     "execution_count": 2,
     "metadata": {},
     "output_type": "execute_result"
    }
   ],
   "source": [
    "class Solution:\n",
    "    def romanToInt(self, s: str) -> int:\n",
    "\n",
    "        mapping = {\n",
    "            \"I\": 1,\n",
    "            \"V\": 5,\n",
    "            \"X\": 10,\n",
    "            \"L\": 50,\n",
    "            \"C\": 100,\n",
    "            \"D\": 500,\n",
    "            \"M\": 1000,\n",
    "            \"IV\": -2,\n",
    "            \"IX\": -2,\n",
    "            \"XL\": -20,\n",
    "            \"XC\": -20,\n",
    "            \"CD\": -200,\n",
    "            \"CM\": -200,\n",
    "        }\n",
    "\n",
    "        total = 0\n",
    "        for symbol, val in mapping.items():\n",
    "            total += s.count(symbol) * val\n",
    "        return total\n",
    "\n",
    "\n",
    "solution = Solution()\n",
    "solution.romanToInt(s=\"III\")\n",
    "solution.romanToInt(s=\"LVIII\")\n",
    "solution.romanToInt(s=\"MCMXCIV\")"
   ]
  },
  {
   "cell_type": "code",
   "execution_count": null,
   "metadata": {},
   "outputs": [],
   "source": [
    "s.count(\"XL\")"
   ]
  }
 ],
 "metadata": {
  "interpreter": {
   "hash": "949777d72b0d2535278d3dc13498b2535136f6dfe0678499012e853ee9abcab1"
  },
  "kernelspec": {
   "display_name": "Python 3.8.13 64-bit",
   "language": "python",
   "name": "python3"
  },
  "language_info": {
   "codemirror_mode": {
    "name": "ipython",
    "version": 3
   },
   "file_extension": ".py",
   "mimetype": "text/x-python",
   "name": "python",
   "nbconvert_exporter": "python",
   "pygments_lexer": "ipython3",
   "version": "3.8.13"
  },
  "orig_nbformat": 4
 },
 "nbformat": 4,
 "nbformat_minor": 2
}
