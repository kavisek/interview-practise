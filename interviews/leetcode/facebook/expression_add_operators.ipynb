{
 "cells": [
  {
   "cell_type": "markdown",
   "metadata": {},
   "source": [
    "# Attempt 1 - Gave Up this is Hard"
   ]
  },
  {
   "cell_type": "code",
   "execution_count": 15,
   "metadata": {},
   "outputs": [
    {
     "name": "stdout",
     "output_type": "stream",
     "text": [
      "[('+', '+'), ('+', '-'), ('+', '*'), ('-', '-'), ('-', '*'), ('*', '*')]\n"
     ]
    }
   ],
   "source": [
    "from typing import List\n",
    "class Solution:\n",
    "    def addOperators(self, num: str, target: int) -> List[str]:\n",
    "        from itertools import combinations_with_replacement\n",
    "        operators = []\n",
    "        for i in combinations_with_replacement([\"+\",\"-\",\"*\"],len(num)-1):\n",
    "            operators.append(i) \n",
    "\n",
    "        options = []\n",
    "        expression = []\n",
    "        for i, in num:\n",
    "            for j in operators\n",
    "            expression.append(i)\n",
    "                \n",
    "                \n",
    "            \n",
    "\n",
    "        print(operators)\n",
    "\n",
    "solution = Solution()\n",
    "solution.addOperators(\"232\", target = 8)\n"
   ]
  },
  {
   "cell_type": "code",
   "execution_count": 2,
   "metadata": {},
   "outputs": [
    {
     "data": {
      "text/plain": [
       "2"
      ]
     },
     "execution_count": 2,
     "metadata": {},
     "output_type": "execute_result"
    }
   ],
   "source": [
    "eval(\"1+1\")"
   ]
  },
  {
   "cell_type": "code",
   "execution_count": 11,
   "metadata": {},
   "outputs": [
    {
     "data": {
      "text/plain": [
       "[('+', '+', '+', '+', '+'),\n",
       " ('+', '+', '+', '+', '-'),\n",
       " ('+', '+', '+', '+', '*'),\n",
       " ('+', '+', '+', '-', '-'),\n",
       " ('+', '+', '+', '-', '*'),\n",
       " ('+', '+', '+', '*', '*'),\n",
       " ('+', '+', '-', '-', '-'),\n",
       " ('+', '+', '-', '-', '*'),\n",
       " ('+', '+', '-', '*', '*'),\n",
       " ('+', '+', '*', '*', '*'),\n",
       " ('+', '-', '-', '-', '-'),\n",
       " ('+', '-', '-', '-', '*'),\n",
       " ('+', '-', '-', '*', '*'),\n",
       " ('+', '-', '*', '*', '*'),\n",
       " ('+', '*', '*', '*', '*'),\n",
       " ('-', '-', '-', '-', '-'),\n",
       " ('-', '-', '-', '-', '*'),\n",
       " ('-', '-', '-', '*', '*'),\n",
       " ('-', '-', '*', '*', '*'),\n",
       " ('-', '*', '*', '*', '*'),\n",
       " ('*', '*', '*', '*', '*')]"
      ]
     },
     "execution_count": 11,
     "metadata": {},
     "output_type": "execute_result"
    }
   ],
   "source": []
  },
  {
   "cell_type": "code",
   "execution_count": null,
   "metadata": {},
   "outputs": [],
   "source": []
  }
 ],
 "metadata": {
  "interpreter": {
   "hash": "949777d72b0d2535278d3dc13498b2535136f6dfe0678499012e853ee9abcab1"
  },
  "kernelspec": {
   "display_name": "Python 3.8.13 64-bit",
   "language": "python",
   "name": "python3"
  },
  "language_info": {
   "codemirror_mode": {
    "name": "ipython",
    "version": 3
   },
   "file_extension": ".py",
   "mimetype": "text/x-python",
   "name": "python",
   "nbconvert_exporter": "python",
   "pygments_lexer": "ipython3",
   "version": "3.8.13"
  },
  "orig_nbformat": 4
 },
 "nbformat": 4,
 "nbformat_minor": 2
}
