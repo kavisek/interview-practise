{
 "cells": [
  {
   "cell_type": "code",
   "execution_count": 6,
   "metadata": {},
   "outputs": [
    {
     "data": {
      "text/plain": [
       "[-1, -1]"
      ]
     },
     "execution_count": 6,
     "metadata": {},
     "output_type": "execute_result"
    }
   ],
   "source": [
    "from typing import List\n",
    "\n",
    "\n",
    "class Solution:\n",
    "    def searchRange(self, nums: List[int], target: int) -> List[int]:\n",
    "\n",
    "        i = 0\n",
    "        w = len(nums)\n",
    "\n",
    "        # window base condition\n",
    "        if w == 0:\n",
    "            return [-1, -1]\n",
    "\n",
    "        # search\n",
    "        results = []\n",
    "        while i < w:\n",
    "            if nums[i] == target:\n",
    "                results.append(i)\n",
    "            if nums[i] > target:\n",
    "                i == w\n",
    "            i += 1\n",
    "\n",
    "        # Modifying Range\n",
    "        if len(results) == 1:\n",
    "            results.append(results[0])\n",
    "        if len(results) >= 2:\n",
    "            results = [results[0], results[-1]]\n",
    "\n",
    "        # no match conditions\n",
    "        if results == []:\n",
    "            return [-1, -1]\n",
    "\n",
    "        return results\n",
    "\n",
    "\n",
    "sol = Solution()\n",
    "sol.searchRange(nums=[5, 7, 7, 8, 8, 10], target=8)\n",
    "sol.searchRange(nums=[5, 7, 7, 8, 8, 10], target=6)\n",
    "sol.searchRange(nums=[], target=0)"
   ]
  },
  {
   "cell_type": "code",
   "execution_count": null,
   "metadata": {},
   "outputs": [],
   "source": []
  }
 ],
 "metadata": {
  "interpreter": {
   "hash": "949777d72b0d2535278d3dc13498b2535136f6dfe0678499012e853ee9abcab1"
  },
  "kernelspec": {
   "display_name": "Python 3.8.13 64-bit",
   "language": "python",
   "name": "python3"
  },
  "language_info": {
   "codemirror_mode": {
    "name": "ipython",
    "version": 3
   },
   "file_extension": ".py",
   "mimetype": "text/x-python",
   "name": "python",
   "nbconvert_exporter": "python",
   "pygments_lexer": "ipython3",
   "version": "3.8.13"
  },
  "orig_nbformat": 4
 },
 "nbformat": 4,
 "nbformat_minor": 2
}
