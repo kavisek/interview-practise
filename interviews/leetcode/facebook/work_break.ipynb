{
 "cells": [
  {
   "cell_type": "code",
   "execution_count": 3,
   "metadata": {},
   "outputs": [
    {
     "name": "stdout",
     "output_type": "stream",
     "text": [
      "pen\n",
      "\n"
     ]
    },
    {
     "data": {
      "text/plain": [
       "True"
      ]
     },
     "execution_count": 3,
     "metadata": {},
     "output_type": "execute_result"
    }
   ],
   "source": [
    "from typing import List\n",
    "\n",
    "\n",
    "class Solution:\n",
    "    def wordBreak(self, s: str, wordDict: List[str]) -> bool:\n",
    "\n",
    "        for i in wordDict:\n",
    "            s = s.replace(i, \"\")\n",
    "            print(s)\n",
    "\n",
    "        if len(s) > 0:\n",
    "            return False\n",
    "        else:\n",
    "            return True\n",
    "\n",
    "\n",
    "sol = Solution()\n",
    "sol.wordBreak(s=\"applepenapple\", wordDict=[\"apple\", \"pen\"])"
   ]
  },
  {
   "cell_type": "markdown",
   "metadata": {},
   "source": [
    "Attemp 2"
   ]
  },
  {
   "cell_type": "code",
   "execution_count": null,
   "metadata": {},
   "outputs": [],
   "source": [
    "from typing import List\n",
    "\n",
    "\n",
    "class Solution:\n",
    "    def wordBreak(self, s: str, wordDict: List[str]) -> bool:\n",
    "\n",
    "        flag = True\n",
    "        for i in wordDict:\n",
    "            if i in s:\n",
    "                flag = flag + True\n",
    "            else:\n",
    "                flag = flag + False\n",
    "                return flag\n",
    "        \n",
    "        return flag\n",
    "\n",
    "            # s = s.replace(i,'')\n",
    "            print(s)\n",
    "        \n",
    "        # if len(s) > 0:\n",
    "        #     return False\n",
    "        # else:\n",
    "        #     return True\n",
    "\n",
    "sol = Solution()\n",
    "sol.wordBreak(s = \"applepenapple\", wordDict = [\"apple\",\"pen\"])"
   ]
  },
  {
   "cell_type": "markdown",
   "metadata": {},
   "source": [
    "### Attempt 3"
   ]
  },
  {
   "cell_type": "code",
   "execution_count": null,
   "metadata": {},
   "outputs": [],
   "source": [
    "class Solution:\n",
    "    def wordBreak(self, s: str, wordDict: List[str]) -> bool:\n",
    "        dp = [False] * (len(s) + 1)\n",
    "        dp[len(s)] = True\n",
    "\n",
    "        for i in range(len(s) - 1, -1, -1):\n",
    "            for w in wordDict:\n",
    "                if (i + len(w)) <= len(s) and s[i : i + len(w)] == w:\n",
    "                    dp[i] = dp[i + len(w)]\n",
    "                if dp[i]:\n",
    "                    break\n",
    "        return dp[0]"
   ]
  }
 ],
 "metadata": {
  "interpreter": {
   "hash": "949777d72b0d2535278d3dc13498b2535136f6dfe0678499012e853ee9abcab1"
  },
  "kernelspec": {
   "display_name": "Python 3.8.13 64-bit",
   "language": "python",
   "name": "python3"
  },
  "language_info": {
   "codemirror_mode": {
    "name": "ipython",
    "version": 3
   },
   "file_extension": ".py",
   "mimetype": "text/x-python",
   "name": "python",
   "nbconvert_exporter": "python",
   "pygments_lexer": "ipython3",
   "version": "3.8.13"
  },
  "orig_nbformat": 4
 },
 "nbformat": 4,
 "nbformat_minor": 2
}
