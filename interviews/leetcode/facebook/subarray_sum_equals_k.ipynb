{
 "cells": [
  {
   "cell_type": "markdown",
   "metadata": {},
   "source": [
    "Notes\n",
    "\n",
    "- I think a sliding window and a count would work here. Nope while loop was to slow\n",
    "- don't use a while loop and use two for ranges instead. for loop was to slow.\n",
    "- "
   ]
  },
  {
   "cell_type": "markdown",
   "metadata": {},
   "source": [
    "### First Attempt"
   ]
  },
  {
   "cell_type": "code",
   "execution_count": 1,
   "metadata": {},
   "outputs": [],
   "source": [
    "from typing import List\n",
    "\n",
    "\n",
    "class Solution:\n",
    "    def subarraySum(self, nums: List[int], k: int) -> int:\n",
    "        l = 0\n",
    "        r = 1\n",
    "        count = 0\n",
    "        while l < r:\n",
    "\n",
    "            if r != 1:\n",
    "                r = l + 1\n",
    "\n",
    "            while r <= len(nums):\n",
    "                print(nums[l:r])\n",
    "                if sum(nums[l:r]) == k:\n",
    "                    count += 1\n",
    "                r += 1\n",
    "            l += 1\n",
    "        return count"
   ]
  },
  {
   "cell_type": "markdown",
   "metadata": {},
   "source": [
    "### Solution"
   ]
  },
  {
   "cell_type": "code",
   "execution_count": 12,
   "metadata": {},
   "outputs": [
    {
     "ename": "TabError",
     "evalue": "inconsistent use of tabs and spaces in indentation (<ipython-input-12-fdbc85a1b28c>, line 18)",
     "output_type": "error",
     "traceback": [
      "\u001b[0;36m  File \u001b[0;32m\"<ipython-input-12-fdbc85a1b28c>\"\u001b[0;36m, line \u001b[0;32m18\u001b[0m\n\u001b[0;31m    print(prefsum)\u001b[0m\n\u001b[0m                  ^\u001b[0m\n\u001b[0;31mTabError\u001b[0m\u001b[0;31m:\u001b[0m inconsistent use of tabs and spaces in indentation\n"
     ]
    }
   ],
   "source": [
    "from typing import List\n",
    "\n",
    "\n",
    "class Solution:\n",
    "    def subarraySum(self, nums: List[int], k: int) -> int:\n",
    "\n",
    "        ans = 0\n",
    "        prefsum = 0\n",
    "        d = {0: 1}\n",
    "\n",
    "        for num in nums:\n",
    "            prefsum = prefsum + num\n",
    "\n",
    "            if prefsum - k in d:\n",
    "                ans = ans + d[prefsum - k]\n",
    "\n",
    "            if prefsum not in d:\n",
    "                d[prefsum] = 1\n",
    "            else:\n",
    "                d[prefsum] = d[prefsum] + 1\n",
    "\n",
    "        return ans\n",
    "\n",
    "\n",
    "sol = Solution()\n",
    "sol.subarraySum(nums=[1, 2, 3], k=3)"
   ]
  },
  {
   "cell_type": "code",
   "execution_count": null,
   "metadata": {},
   "outputs": [],
   "source": []
  }
 ],
 "metadata": {
  "interpreter": {
   "hash": "1b74ec6fb81269781a1bd712bff70fe1aa806a4e3f31cc27fc42821ea4aced1c"
  },
  "kernelspec": {
   "display_name": "Python 3.6.7 ('airflow')",
   "language": "python",
   "name": "python3"
  },
  "language_info": {
   "codemirror_mode": {
    "name": "ipython",
    "version": 3
   },
   "file_extension": ".py",
   "mimetype": "text/x-python",
   "name": "python",
   "nbconvert_exporter": "python",
   "pygments_lexer": "ipython3",
   "version": "3.6.7"
  },
  "orig_nbformat": 4
 },
 "nbformat": 4,
 "nbformat_minor": 2
}
