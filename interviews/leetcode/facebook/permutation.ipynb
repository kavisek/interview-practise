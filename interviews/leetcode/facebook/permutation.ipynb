{
 "cells": [
  {
   "cell_type": "code",
   "execution_count": 8,
   "metadata": {},
   "outputs": [
    {
     "name": "stdout",
     "output_type": "stream",
     "text": [
      "option: 0, [0, 1], [] \n",
      "option: 0, [0], [1] \n",
      "option: 0, [1, 0], [] \n",
      "option: 1, [1], [0] \n",
      "option: 0, [1, 1, 2], [] \n",
      "option: 0, [1, 1], [2] \n",
      "option: 0, [1, 2, 1], [] \n",
      "option: 1, [1, 2], [1] \n",
      "option: 0, [1], [1, 2] \n",
      "option: 0, [1, 1, 2], [] \n",
      "option: 0, [1, 1], [2] \n",
      "option: 0, [1, 2, 1], [] \n",
      "option: 1, [1, 2], [1] \n",
      "option: 1, [1], [1, 2] \n",
      "option: 0, [2, 1, 1], [] \n",
      "option: 0, [2, 1], [1] \n",
      "option: 0, [2, 1, 1], [] \n",
      "option: 1, [2, 1], [1] \n",
      "option: 2, [2], [1, 1] \n"
     ]
    },
    {
     "data": {
      "text/plain": [
       "[[1, 1, 2], [1, 2, 1], [1, 1, 2], [1, 2, 1], [2, 1, 1], [2, 1, 1]]"
      ]
     },
     "execution_count": 8,
     "metadata": {},
     "output_type": "execute_result"
    }
   ],
   "source": [
    "from typing import List\n",
    "\n",
    "class Solution:\n",
    "    def permute(self, nums: List[int]) -> List[List[int]]:\n",
    "        result = []\n",
    "\n",
    "\n",
    "        def helper(cur, num):\n",
    "            if len(num) == 0:\n",
    "                result.append(cur[:])\n",
    "\n",
    "            for i in range(len(num)):\n",
    "                helper(cur + [num[i]], num[:i] + num[i +  1:])\n",
    "                print(f'option: {i}, {cur + [num[i]]}, {num[:i] + num[i +  1:]} ')\n",
    "        \n",
    "        helper([], nums)\n",
    "        return result\n",
    "\n",
    "\n",
    "sol = Solution()\n",
    "sol.permute(nums = [0,1])\n",
    "sol.permute(nums = [1,1,2])"
   ]
  },
  {
   "cell_type": "code",
   "execution_count": null,
   "metadata": {},
   "outputs": [],
   "source": []
  }
 ],
 "metadata": {
  "interpreter": {
   "hash": "949777d72b0d2535278d3dc13498b2535136f6dfe0678499012e853ee9abcab1"
  },
  "kernelspec": {
   "display_name": "Python 3.8.13 64-bit",
   "language": "python",
   "name": "python3"
  },
  "language_info": {
   "codemirror_mode": {
    "name": "ipython",
    "version": 3
   },
   "file_extension": ".py",
   "mimetype": "text/x-python",
   "name": "python",
   "nbconvert_exporter": "python",
   "pygments_lexer": "ipython3",
   "version": "3.8.13"
  },
  "orig_nbformat": 4
 },
 "nbformat": 4,
 "nbformat_minor": 2
}
