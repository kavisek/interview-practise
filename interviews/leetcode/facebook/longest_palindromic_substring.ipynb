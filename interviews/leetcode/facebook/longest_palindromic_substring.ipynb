{
 "cells": [
  {
   "cell_type": "code",
   "execution_count": null,
   "metadata": {},
   "outputs": [],
   "source": [
    "class Solution:\n",
    "    def longestPalindrome(self, s: str) -> str:\n",
    "        longest = \"\"\n",
    "\n",
    "        for i in range(0,len(s)):\n",
    "            s[i]\n",
    "\n",
    "\n",
    "\n",
    "\n",
    "sol = Solution\n",
    "sol.longestPalindrome(s=\"babad\")"
   ]
  }
 ],
 "metadata": {
  "language_info": {
   "name": "python"
  },
  "orig_nbformat": 4
 },
 "nbformat": 4,
 "nbformat_minor": 2
}
