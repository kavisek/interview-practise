{
 "cells": [
  {
   "cell_type": "code",
   "execution_count": 8,
   "metadata": {},
   "outputs": [
    {
     "data": {
      "text/plain": [
       "-2147483648"
      ]
     },
     "execution_count": 8,
     "metadata": {},
     "output_type": "execute_result"
    }
   ],
   "source": [
    "class Solution:\n",
    "    def divide(self, dividend: int, divisor: int) -> int:\n",
    "\n",
    "        neg = False\n",
    "        if divisor < 0 and dividend < 0:\n",
    "            neg = False\n",
    "        elif divisor < 0 or dividend < 0:\n",
    "            neg = True\n",
    "\n",
    "        divisor = abs(divisor)\n",
    "        dividend = abs(dividend)\n",
    "        r = divmod(dividend, divisor)[0]\n",
    "\n",
    "        if neg == True:\n",
    "            r = -r\n",
    "\n",
    "        if r >= (2**31 - 1):\n",
    "            return 2**31 - 1\n",
    "        if r <= -(2**31):\n",
    "            return -(2**31)\n",
    "\n",
    "        return r"
   ]
  }
 ],
 "metadata": {
  "interpreter": {
   "hash": "949777d72b0d2535278d3dc13498b2535136f6dfe0678499012e853ee9abcab1"
  },
  "kernelspec": {
   "display_name": "Python 3.8.13 64-bit",
   "language": "python",
   "name": "python3"
  },
  "language_info": {
   "codemirror_mode": {
    "name": "ipython",
    "version": 3
   },
   "file_extension": ".py",
   "mimetype": "text/x-python",
   "name": "python",
   "nbconvert_exporter": "python",
   "pygments_lexer": "ipython3",
   "version": "3.8.13"
  },
  "orig_nbformat": 4
 },
 "nbformat": 4,
 "nbformat_minor": 2
}
