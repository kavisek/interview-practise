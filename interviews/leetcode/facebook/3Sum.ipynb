{
 "cells": [
  {
   "cell_type": "markdown",
   "metadata": {},
   "source": [
    "### First Attemps"
   ]
  },
  {
   "cell_type": "code",
   "execution_count": 13,
   "metadata": {},
   "outputs": [
    {
     "data": {
      "text/plain": [
       "[[-1, -1, 2], [-1, 0, 1]]"
      ]
     },
     "execution_count": 13,
     "metadata": {},
     "output_type": "execute_result"
    }
   ],
   "source": [
    "from typing import List\n",
    "\n",
    "class Solution:\n",
    "    def threeSum(self, nums: List[int]) -> List[List[int]]:\n",
    "\n",
    "        nums = sorted(nums)\n",
    "        \n",
    "        trips = []\n",
    "        for i, iv in enumerate(nums):\n",
    "            for j, jv in enumerate(nums):\n",
    "                for k, kv in enumerate(nums):\n",
    "                    if i != j and i != k and j != k and (iv + jv + kv == 0):\n",
    "                        sol = sorted([iv, jv, kv])\n",
    "                        if sol not in trips:\n",
    "                            trips.append(sol)\n",
    "                    \n",
    "        return trips\n",
    "\n",
    "\n",
    "solution = Solution()\n",
    "solution.threeSum([-1,0,1,2,-1,-4])"
   ]
  },
  {
   "cell_type": "code",
   "execution_count": 17,
   "metadata": {},
   "outputs": [
    {
     "data": {
      "text/plain": [
       "[[-1, -1, 2], [-1, 0, 1]]"
      ]
     },
     "execution_count": 17,
     "metadata": {},
     "output_type": "execute_result"
    }
   ],
   "source": [
    "from typing import List\n",
    "\n",
    "class Solution:\n",
    "    def threeSum(self, nums: List[int]) -> List[List[int]]:\n",
    "      nums.sort()\n",
    "      result = []\n",
    "      for i in range(len(nums)-2):\n",
    "         if i> 0 and nums[i] == nums[i-1]:\n",
    "            continue\n",
    "         l = i+1\n",
    "         r = len(nums)-1\n",
    "         while(l<r):\n",
    "            sum = nums[i] + nums[l] + nums[r]\n",
    "            if sum<0:\n",
    "               l+=1\n",
    "            elif sum >0:\n",
    "               r-=1\n",
    "            else:\n",
    "               result.append([nums[i],nums[l],nums[r]])\n",
    "               while l<len(nums)-1 and nums[l] == nums[l + 1] : l += 1\n",
    "               while r>0 and nums[r] == nums[r - 1]: r -= 1\n",
    "               l+=1\n",
    "               r-=1\n",
    "      return result\n",
    "\n",
    "\n",
    "solution = Solution()\n",
    "solution.threeSum([-1,0,1,2,-1,-4])"
   ]
  },
  {
   "cell_type": "code",
   "execution_count": null,
   "metadata": {},
   "outputs": [],
   "source": []
  }
 ],
 "metadata": {
  "interpreter": {
   "hash": "949777d72b0d2535278d3dc13498b2535136f6dfe0678499012e853ee9abcab1"
  },
  "kernelspec": {
   "display_name": "Python 3.8.13 64-bit",
   "language": "python",
   "name": "python3"
  },
  "language_info": {
   "codemirror_mode": {
    "name": "ipython",
    "version": 3
   },
   "file_extension": ".py",
   "mimetype": "text/x-python",
   "name": "python",
   "nbconvert_exporter": "python",
   "pygments_lexer": "ipython3",
   "version": "3.8.13"
  },
  "orig_nbformat": 4
 },
 "nbformat": 4,
 "nbformat_minor": 2
}
