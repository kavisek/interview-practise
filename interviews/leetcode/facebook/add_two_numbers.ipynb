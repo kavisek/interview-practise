{
 "cells": [
  {
   "cell_type": "code",
   "execution_count": 10,
   "metadata": {},
   "outputs": [
    {
     "ename": "AttributeError",
     "evalue": "'list' object has no attribute 'printList'",
     "output_type": "error",
     "traceback": [
      "\u001b[0;31m---------------------------------------------------------------------------\u001b[0m",
      "\u001b[0;31mAttributeError\u001b[0m                            Traceback (most recent call last)",
      "\u001b[1;32m/workspaces/interview-practise/interviews/leetcode/facebook/add_two_numbers.ipynb Cell 1'\u001b[0m in \u001b[0;36m<cell line: 34>\u001b[0;34m()\u001b[0m\n\u001b[1;32m     <a href='vscode-notebook-cell://dev-container%2B2f55736572732f6b6176692f776f726b7370616365732f706572736f6e616c2f696e746572766965772d7072616374697365/workspaces/interview-practise/interviews/leetcode/facebook/add_two_numbers.ipynb#ch0000000vscode-remote?line=30'>31</a>\u001b[0m         l1\u001b[39m.\u001b[39mprintList()\n\u001b[1;32m     <a href='vscode-notebook-cell://dev-container%2B2f55736572732f6b6176692f776f726b7370616365732f706572736f6e616c2f696e746572766965772d7072616374697365/workspaces/interview-practise/interviews/leetcode/facebook/add_two_numbers.ipynb#ch0000000vscode-remote?line=32'>33</a>\u001b[0m sol \u001b[39m=\u001b[39m Solution()\n\u001b[0;32m---> <a href='vscode-notebook-cell://dev-container%2B2f55736572732f6b6176692f776f726b7370616365732f706572736f6e616c2f696e746572766965772d7072616374697365/workspaces/interview-practise/interviews/leetcode/facebook/add_two_numbers.ipynb#ch0000000vscode-remote?line=33'>34</a>\u001b[0m sol\u001b[39m.\u001b[39;49maddTwoNumbers(l1 \u001b[39m=\u001b[39;49m [\u001b[39m2\u001b[39;49m,\u001b[39m4\u001b[39;49m,\u001b[39m3\u001b[39;49m], l2 \u001b[39m=\u001b[39;49m [\u001b[39m5\u001b[39;49m,\u001b[39m6\u001b[39;49m,\u001b[39m4\u001b[39;49m])\n",
      "\u001b[1;32m/workspaces/interview-practise/interviews/leetcode/facebook/add_two_numbers.ipynb Cell 1'\u001b[0m in \u001b[0;36mSolution.addTwoNumbers\u001b[0;34m(self, l1, l2)\u001b[0m\n\u001b[1;32m     <a href='vscode-notebook-cell://dev-container%2B2f55736572732f6b6176692f776f726b7370616365732f706572736f6e616c2f696e746572766965772d7072616374697365/workspaces/interview-practise/interviews/leetcode/facebook/add_two_numbers.ipynb#ch0000000vscode-remote?line=29'>30</a>\u001b[0m \u001b[39mdef\u001b[39;00m \u001b[39maddTwoNumbers\u001b[39m(\u001b[39mself\u001b[39m, l1: Optional[ListNode], l2: Optional[ListNode]) \u001b[39m-\u001b[39m\u001b[39m>\u001b[39m Optional[ListNode]:\n\u001b[0;32m---> <a href='vscode-notebook-cell://dev-container%2B2f55736572732f6b6176692f776f726b7370616365732f706572736f6e616c2f696e746572766965772d7072616374697365/workspaces/interview-practise/interviews/leetcode/facebook/add_two_numbers.ipynb#ch0000000vscode-remote?line=30'>31</a>\u001b[0m     l1\u001b[39m.\u001b[39;49mprintList()\n",
      "\u001b[0;31mAttributeError\u001b[0m: 'list' object has no attribute 'printList'"
     ]
    }
   ],
   "source": [
    "from typing import List\n",
    "from typing import Optional\n",
    "\n",
    "\n",
    "# Definition for singly-linked list.\n",
    "# Definition for singly-linked list.\n",
    "# class ListNode:\n",
    "#     def __init__(self, val=0, next=None):\n",
    "#         self.val = val\n",
    "#         self.next = next\n",
    "class Solution:\n",
    "    def addTwoNumbers(self, l1: Optional[ListNode], l2: Optional[ListNode]) -> Optional[ListNode]:\n",
    "        pass\n",
    "\n",
    "sol = Solution()\n",
    "sol.addTwoNumbers(l1 = [2,4,3], l2 = [5,6,4])"
   ]
  },
  {
   "cell_type": "code",
   "execution_count": null,
   "metadata": {},
   "outputs": [],
   "source": []
  }
 ],
 "metadata": {
  "interpreter": {
   "hash": "949777d72b0d2535278d3dc13498b2535136f6dfe0678499012e853ee9abcab1"
  },
  "kernelspec": {
   "display_name": "Python 3.8.13 64-bit",
   "language": "python",
   "name": "python3"
  },
  "language_info": {
   "codemirror_mode": {
    "name": "ipython",
    "version": 3
   },
   "file_extension": ".py",
   "mimetype": "text/x-python",
   "name": "python",
   "nbconvert_exporter": "python",
   "pygments_lexer": "ipython3",
   "version": "3.8.13"
  },
  "orig_nbformat": 4
 },
 "nbformat": 4,
 "nbformat_minor": 2
}
