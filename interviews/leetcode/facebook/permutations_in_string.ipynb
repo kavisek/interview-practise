{
 "cells": [
  {
   "cell_type": "code",
   "execution_count": null,
   "metadata": {},
   "outputs": [],
   "source": []
  },
  {
   "cell_type": "markdown",
   "metadata": {},
   "source": [
    "### First Attempt: Too Slow"
   ]
  },
  {
   "cell_type": "code",
   "execution_count": 5,
   "metadata": {},
   "outputs": [
    {
     "data": {
      "text/plain": [
       "True"
      ]
     },
     "execution_count": 5,
     "metadata": {},
     "output_type": "execute_result"
    }
   ],
   "source": [
    "class Solution:\n",
    "    def checkInclusion(self, s1: str, s2: str) -> bool:\n",
    "\n",
    "        from itertools import permutations\n",
    "\n",
    "        perm = permutations(s1)\n",
    "        for i in list(perm):\n",
    "            if \"\".join(list(i)) in s2:\n",
    "                return True\n",
    "        else:\n",
    "            return False\n",
    "\n",
    "\n",
    "solution = Solution()\n",
    "solution.checkInclusion(s1=\"ab\", s2=\"eidbaooo\")"
   ]
  },
  {
   "cell_type": "markdown",
   "metadata": {},
   "source": [
    "### Second Attempt: Hash Tabe Comparison...Still to Slow"
   ]
  },
  {
   "cell_type": "code",
   "execution_count": 19,
   "metadata": {},
   "outputs": [
    {
     "name": "stdout",
     "output_type": "stream",
     "text": [
      "Counter({'a': 1, 'b': 1, 'c': 1})\n",
      "Counter({'c': 5, 'a': 5, 'b': 4})\n"
     ]
    },
    {
     "data": {
      "text/plain": [
       "True"
      ]
     },
     "execution_count": 19,
     "metadata": {},
     "output_type": "execute_result"
    }
   ],
   "source": [
    "from collections import Counter\n",
    "from itertools import permutations\n",
    "\n",
    "\n",
    "class Solution:\n",
    "    def checkInclusion(self, s1: str, s2: str) -> bool:\n",
    "\n",
    "        # S1 is greater then s2\n",
    "        if len(s1) > len(s2):\n",
    "            return False\n",
    "\n",
    "        # Basic Check\n",
    "        if s1 in s2:\n",
    "            return True\n",
    "\n",
    "        # Counter Checkk\n",
    "        f = Counter(s1)\n",
    "        s = Counter(s2)\n",
    "        print(f)\n",
    "        print(s)\n",
    "\n",
    "        # Check hast table counts\n",
    "        flag = False\n",
    "        for k, v in f.items():\n",
    "            if k in s.keys():\n",
    "                if v <= s[k]:\n",
    "                    flag = flag + True\n",
    "                else:\n",
    "                    flag = flag + False\n",
    "\n",
    "        # If trum compare permutations\n",
    "        if flag:\n",
    "            perm = permutations(s1)\n",
    "            for i in list(perm):\n",
    "                if \"\".join(list(i)) in s2:\n",
    "                    return True\n",
    "            else:\n",
    "                return False\n",
    "\n",
    "\n",
    "solution = Solution()\n",
    "# solution.checkInclusion(s1=\"ab\",s2=\"eidbaooo\")\n",
    "solution.checkInclusion(s1=\"abc\", s2=\"cccccbabbbaaaa\")"
   ]
  },
  {
   "cell_type": "markdown",
   "metadata": {},
   "source": [
    "### Attempt 3: Sliding Window - Pass"
   ]
  },
  {
   "cell_type": "code",
   "execution_count": null,
   "metadata": {},
   "outputs": [],
   "source": [
    "from collections import Counter\n",
    "from itertools import permutations\n",
    "\n",
    "\n",
    "class Solution:\n",
    "    def checkInclusion(self, s1: str, s2: str) -> bool:\n",
    "\n",
    "        cntr, w = Counter(s1), len(s1)\n",
    "\n",
    "        for i in range(len(s2)):\n",
    "            if s2[i] in cntr:\n",
    "                cntr[s2[i]] -= 1\n",
    "            if i >= w and s2[i - w] in cntr:\n",
    "                cntr[s2[i - w]] += 1\n",
    "\n",
    "            if all([cntr[i] == 0 for i in cntr]):  # see optimized code below\n",
    "                return True\n",
    "        return False"
   ]
  }
 ],
 "metadata": {
  "interpreter": {
   "hash": "949777d72b0d2535278d3dc13498b2535136f6dfe0678499012e853ee9abcab1"
  },
  "kernelspec": {
   "display_name": "Python 3.8.13 64-bit",
   "language": "python",
   "name": "python3"
  },
  "language_info": {
   "codemirror_mode": {
    "name": "ipython",
    "version": 3
   },
   "file_extension": ".py",
   "mimetype": "text/x-python",
   "name": "python",
   "nbconvert_exporter": "python",
   "pygments_lexer": "ipython3",
   "version": "3.8.13"
  },
  "orig_nbformat": 4
 },
 "nbformat": 4,
 "nbformat_minor": 2
}
