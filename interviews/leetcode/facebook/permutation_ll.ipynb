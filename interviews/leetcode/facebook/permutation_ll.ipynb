{
 "cells": [
  {
   "cell_type": "code",
   "execution_count": null,
   "metadata": {},
   "outputs": [],
   "source": [
    "from typing import List\n",
    "\n",
    "class Solution:\n",
    "    def permute(self, nums: List[int]) -> List[List[int]]:\n",
    "        result = []\n",
    "\n",
    "\n",
    "        def helper(cur, num):\n",
    "            if len(num) == 0:\n",
    "                result.append(cur[:])\n",
    "\n",
    "            for i in range(len(num)):\n",
    "                helper(cur + [num[i]], num[:i] + num[i +  1:])\n",
    "                print(f'option: {i}, {cur + [num[i]]}, {num[:i] + num[i +  1:]} ')\n",
    "        \n",
    "        helper([], nums)\n",
    "        return result\n",
    "\n",
    "\n",
    "sol = Solution()\n",
    "sol.permute(nums = [0,1])\n",
    "sol.permute(nums = [1,1,2])"
   ]
  }
 ],
 "metadata": {
  "language_info": {
   "name": "python"
  },
  "orig_nbformat": 4
 },
 "nbformat": 4,
 "nbformat_minor": 2
}
