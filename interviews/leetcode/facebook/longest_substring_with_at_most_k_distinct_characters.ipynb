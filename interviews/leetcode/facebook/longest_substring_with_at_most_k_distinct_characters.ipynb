{
 "cells": [
  {
   "cell_type": "code",
   "execution_count": null,
   "metadata": {},
   "outputs": [],
   "source": [
    "- Sliding Window\n",
    "- use defaultdict"
   ]
  },
  {
   "cell_type": "code",
   "execution_count": 26,
   "metadata": {},
   "outputs": [],
   "source": [
    "from collections import defaultdict\n",
    "class Solution:\n",
    "    def lengthOfLongestSubstringKDistinct(self, s: str, k: int) -> int:\n",
    "        n = len(s)\n",
    "        if n * k == 0:\n",
    "            return 0\n",
    "\n",
    "        # sliding window left and right pointers\n",
    "        left, right = 0, 0\n",
    "        # hashmap character -> its rightmost position\n",
    "        # in the sliding window\n",
    "        hashmap = defaultdict()\n",
    "\n",
    "        max_len = 1\n",
    "\n",
    "        while right < n:\n",
    "            # add new character and move right pointer\n",
    "            hashmap[s[right]] = right\n",
    "            right += 1\n",
    "\n",
    "            if len(hashmap) == k + 1:\n",
    "                # delete the leftmost character\n",
    "                del_idx = min(hashmap.values())\n",
    "                del hashmap[s[del_idx]]\n",
    "                # move left pointer of the slidewindow\n",
    "                left = del_idx + 1\n",
    "\n",
    "            max_len = max(max_len, right - left)\n",
    "\n",
    "        return max_len"
   ]
  },
  {
   "cell_type": "code",
   "execution_count": 27,
   "metadata": {},
   "outputs": [
    {
     "name": "stdout",
     "output_type": "stream",
     "text": [
      "a\n",
      "ab\n",
      "True\n",
      "aba\n",
      "True\n",
      "abab\n",
      "True\n",
      "ababc\n",
      "ababcb\n",
      "ababcbc\n",
      "ababcbcb\n",
      "ababcbcba\n",
      "ababcbcbaa\n",
      "ababcbcbaaa\n",
      "ababcbcbaaab\n",
      "ababcbcbaaabb\n",
      "ababcbcbaaabbd\n",
      "ababcbcbaaabbde\n",
      "b\n",
      "ba\n",
      "bab\n",
      "babc\n",
      "babcb\n",
      "babcbc\n",
      "babcbcb\n",
      "babcbcba\n",
      "babcbcbaa\n",
      "babcbcbaaa\n",
      "babcbcbaaab\n",
      "babcbcbaaabb\n",
      "babcbcbaaabbd\n",
      "babcbcbaaabbde\n",
      "a\n",
      "ab\n",
      "abc\n",
      "abcb\n",
      "abcbc\n",
      "abcbcb\n",
      "abcbcba\n",
      "abcbcbaa\n",
      "abcbcbaaa\n",
      "abcbcbaaab\n",
      "abcbcbaaabb\n",
      "abcbcbaaabbd\n",
      "abcbcbaaabbde\n",
      "b\n",
      "bc\n",
      "bcb\n",
      "bcbc\n",
      "bcbcb\n",
      "True\n",
      "bcbcba\n",
      "bcbcbaa\n",
      "bcbcbaaa\n",
      "bcbcbaaab\n",
      "bcbcbaaabb\n",
      "bcbcbaaabbd\n",
      "bcbcbaaabbde\n",
      "c\n",
      "cb\n",
      "cbc\n",
      "cbcb\n",
      "cbcba\n",
      "cbcbaa\n",
      "cbcbaaa\n",
      "cbcbaaab\n",
      "cbcbaaabb\n",
      "cbcbaaabbd\n",
      "cbcbaaabbde\n",
      "b\n",
      "bc\n",
      "bcb\n",
      "bcba\n",
      "bcbaa\n",
      "bcbaaa\n",
      "bcbaaab\n",
      "bcbaaabb\n",
      "bcbaaabbd\n",
      "bcbaaabbde\n",
      "c\n",
      "cb\n",
      "cba\n",
      "cbaa\n",
      "cbaaa\n",
      "cbaaab\n",
      "cbaaabb\n",
      "cbaaabbd\n",
      "cbaaabbde\n",
      "b\n",
      "ba\n",
      "baa\n",
      "baaa\n",
      "baaab\n",
      "baaabb\n",
      "True\n",
      "baaabbd\n",
      "baaabbde\n",
      "a\n",
      "aa\n",
      "aaa\n",
      "aaab\n",
      "aaabb\n",
      "aaabbd\n",
      "aaabbde\n",
      "a\n",
      "aa\n",
      "aab\n",
      "aabb\n",
      "aabbd\n",
      "aabbde\n",
      "a\n",
      "ab\n",
      "abb\n",
      "abbd\n",
      "abbde\n",
      "b\n",
      "bb\n",
      "bbd\n",
      "bbde\n",
      "b\n",
      "bd\n",
      "bde\n",
      "d\n",
      "de\n",
      "e\n"
     ]
    },
    {
     "data": {
      "text/plain": [
       "6"
      ]
     },
     "execution_count": 27,
     "metadata": {},
     "output_type": "execute_result"
    }
   ],
   "source": [
    "sol = Solution()\n",
    "sol.lengthOfLongestSubstringKDistinct(s = \"ababcbcbaaabbdef\", k = 2)"
   ]
  },
  {
   "cell_type": "code",
   "execution_count": 6,
   "metadata": {},
   "outputs": [
    {
     "data": {
      "text/plain": [
       "3"
      ]
     },
     "execution_count": 6,
     "metadata": {},
     "output_type": "execute_result"
    }
   ],
   "source": [
    "len({\"Test\":1, \"Test2\":2, \"Test3\": 3})"
   ]
  },
  {
   "cell_type": "markdown",
   "metadata": {},
   "source": []
  }
 ],
 "metadata": {
  "interpreter": {
   "hash": "949777d72b0d2535278d3dc13498b2535136f6dfe0678499012e853ee9abcab1"
  },
  "kernelspec": {
   "display_name": "Python 3.8.13 64-bit",
   "language": "python",
   "name": "python3"
  },
  "language_info": {
   "codemirror_mode": {
    "name": "ipython",
    "version": 3
   },
   "file_extension": ".py",
   "mimetype": "text/x-python",
   "name": "python",
   "nbconvert_exporter": "python",
   "pygments_lexer": "ipython3",
   "version": "3.8.13"
  },
  "orig_nbformat": 4
 },
 "nbformat": 4,
 "nbformat_minor": 2
}
