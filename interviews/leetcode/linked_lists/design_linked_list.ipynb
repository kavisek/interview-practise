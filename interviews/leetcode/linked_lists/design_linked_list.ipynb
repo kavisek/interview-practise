{
 "cells": [
  {
   "cell_type": "code",
   "execution_count": 1,
   "metadata": {},
   "outputs": [
    {
     "ename": "KeyboardInterrupt",
     "evalue": "",
     "output_type": "error",
     "traceback": [
      "\u001b[0;31m---------------------------------------------------------------------------\u001b[0m",
      "\u001b[0;31mKeyboardInterrupt\u001b[0m                         Traceback (most recent call last)",
      "\u001b[1;32m/workspaces/interview-practise/interviews/leetcode/linked_lists/design_linked_list.ipynb Cell 1'\u001b[0m in \u001b[0;36m<cell line: 62>\u001b[0;34m()\u001b[0m\n\u001b[1;32m     <a href='vscode-notebook-cell://dev-container%2B2f55736572732f6b6176692f776f726b7370616365732f706572736f6e616c2f696e746572766965772d7072616374697365/workspaces/interview-practise/interviews/leetcode/linked_lists/design_linked_list.ipynb#ch0000000vscode-remote?line=75'>76</a>\u001b[0m \u001b[39mprint\u001b[39m(llist\u001b[39m.\u001b[39mget(\u001b[39m2\u001b[39m))\n\u001b[1;32m     <a href='vscode-notebook-cell://dev-container%2B2f55736572732f6b6176692f776f726b7370616365732f706572736f6e616c2f696e746572766965772d7072616374697365/workspaces/interview-practise/interviews/leetcode/linked_lists/design_linked_list.ipynb#ch0000000vscode-remote?line=76'>77</a>\u001b[0m llist\u001b[39m.\u001b[39maddAtHead(\u001b[39m55\u001b[39m)\n\u001b[0;32m---> <a href='vscode-notebook-cell://dev-container%2B2f55736572732f6b6176692f776f726b7370616365732f706572736f6e616c2f696e746572766965772d7072616374697365/workspaces/interview-practise/interviews/leetcode/linked_lists/design_linked_list.ipynb#ch0000000vscode-remote?line=77'>78</a>\u001b[0m llist\u001b[39m.\u001b[39;49maddAtTail(\u001b[39m66\u001b[39;49m)\n\u001b[1;32m     <a href='vscode-notebook-cell://dev-container%2B2f55736572732f6b6176692f776f726b7370616365732f706572736f6e616c2f696e746572766965772d7072616374697365/workspaces/interview-practise/interviews/leetcode/linked_lists/design_linked_list.ipynb#ch0000000vscode-remote?line=78'>79</a>\u001b[0m llist\u001b[39m.\u001b[39mprint()\n",
      "\u001b[1;32m/workspaces/interview-practise/interviews/leetcode/linked_lists/design_linked_list.ipynb Cell 1'\u001b[0m in \u001b[0;36mLinkedList.addAtTail\u001b[0;34m(self, val)\u001b[0m\n\u001b[1;32m     <a href='vscode-notebook-cell://dev-container%2B2f55736572732f6b6176692f776f726b7370616365732f706572736f6e616c2f696e746572766965772d7072616374697365/workspaces/interview-practise/interviews/leetcode/linked_lists/design_linked_list.ipynb#ch0000000vscode-remote?line=53'>54</a>\u001b[0m temp \u001b[39m=\u001b[39m \u001b[39mself\u001b[39m\u001b[39m.\u001b[39mhead\n\u001b[1;32m     <a href='vscode-notebook-cell://dev-container%2B2f55736572732f6b6176692f776f726b7370616365732f706572736f6e616c2f696e746572766965772d7072616374697365/workspaces/interview-practise/interviews/leetcode/linked_lists/design_linked_list.ipynb#ch0000000vscode-remote?line=54'>55</a>\u001b[0m \u001b[39mwhile\u001b[39;00m (temp):\n\u001b[0;32m---> <a href='vscode-notebook-cell://dev-container%2B2f55736572732f6b6176692f776f726b7370616365732f706572736f6e616c2f696e746572766965772d7072616374697365/workspaces/interview-practise/interviews/leetcode/linked_lists/design_linked_list.ipynb#ch0000000vscode-remote?line=55'>56</a>\u001b[0m     \u001b[39mprint\u001b[39;49m (temp\u001b[39m.\u001b[39;49mdata)\n\u001b[1;32m     <a href='vscode-notebook-cell://dev-container%2B2f55736572732f6b6176692f776f726b7370616365732f706572736f6e616c2f696e746572766965772d7072616374697365/workspaces/interview-practise/interviews/leetcode/linked_lists/design_linked_list.ipynb#ch0000000vscode-remote?line=56'>57</a>\u001b[0m     \u001b[39mif\u001b[39;00m temp\u001b[39m.\u001b[39mnext \u001b[39m==\u001b[39m \u001b[39mNone\u001b[39;00m:\n\u001b[1;32m     <a href='vscode-notebook-cell://dev-container%2B2f55736572732f6b6176692f776f726b7370616365732f706572736f6e616c2f696e746572766965772d7072616374697365/workspaces/interview-practise/interviews/leetcode/linked_lists/design_linked_list.ipynb#ch0000000vscode-remote?line=57'>58</a>\u001b[0m         temp\u001b[39m.\u001b[39mnext \u001b[39m=\u001b[39m Node(val)\n",
      "File \u001b[0;32m/usr/local/lib/python3.8/site-packages/ipykernel/iostream.py:549\u001b[0m, in \u001b[0;36mOutStream.write\u001b[0;34m(self, string)\u001b[0m\n\u001b[1;32m    <a href='file:///usr/local/lib/python3.8/site-packages/ipykernel/iostream.py?line=545'>546</a>\u001b[0m     \u001b[39mraise\u001b[39;00m \u001b[39mValueError\u001b[39;00m(\u001b[39m\"\u001b[39m\u001b[39mI/O operation on closed file\u001b[39m\u001b[39m\"\u001b[39m)\n\u001b[1;32m    <a href='file:///usr/local/lib/python3.8/site-packages/ipykernel/iostream.py?line=546'>547</a>\u001b[0m \u001b[39melse\u001b[39;00m:\n\u001b[0;32m--> <a href='file:///usr/local/lib/python3.8/site-packages/ipykernel/iostream.py?line=548'>549</a>\u001b[0m     is_child \u001b[39m=\u001b[39m \u001b[39mnot\u001b[39;00m \u001b[39mself\u001b[39;49m\u001b[39m.\u001b[39;49m_is_master_process()\n\u001b[1;32m    <a href='file:///usr/local/lib/python3.8/site-packages/ipykernel/iostream.py?line=549'>550</a>\u001b[0m     \u001b[39m# only touch the buffer in the IO thread to avoid races\u001b[39;00m\n\u001b[1;32m    <a href='file:///usr/local/lib/python3.8/site-packages/ipykernel/iostream.py?line=550'>551</a>\u001b[0m     \u001b[39mwith\u001b[39;00m \u001b[39mself\u001b[39m\u001b[39m.\u001b[39m_buffer_lock:\n",
      "File \u001b[0;32m/usr/local/lib/python3.8/site-packages/ipykernel/iostream.py:437\u001b[0m, in \u001b[0;36mOutStream._is_master_process\u001b[0;34m(self)\u001b[0m\n\u001b[1;32m    <a href='file:///usr/local/lib/python3.8/site-packages/ipykernel/iostream.py?line=435'>436</a>\u001b[0m \u001b[39mdef\u001b[39;00m \u001b[39m_is_master_process\u001b[39m(\u001b[39mself\u001b[39m):\n\u001b[0;32m--> <a href='file:///usr/local/lib/python3.8/site-packages/ipykernel/iostream.py?line=436'>437</a>\u001b[0m     \u001b[39mreturn\u001b[39;00m os\u001b[39m.\u001b[39;49mgetpid() \u001b[39m==\u001b[39m \u001b[39mself\u001b[39m\u001b[39m.\u001b[39m_master_pid\n",
      "\u001b[0;31mKeyboardInterrupt\u001b[0m: "
     ]
    }
   ],
   "source": [
    "\n",
    "# A simple Python program to introduce a linked list\n",
    " \n",
    "# Node class\n",
    "class Node:\n",
    " \n",
    "    # Function to initialise the node object\n",
    "    def __init__(self, data):\n",
    "        self.data = data  # Assign data\n",
    "        self.next = None  # Initialize next as null\n",
    " \n",
    " \n",
    "# Linked List class contains a Node object\n",
    "class LinkedList:\n",
    " \n",
    "    # Function to initialize head\n",
    "    def __init__(self):\n",
    "        self.head = None\n",
    "\n",
    "    def get(self, index: int) -> int:\n",
    "        \"\"\"\n",
    "        int get(int index) Get the value of the indexth\n",
    "        node in the linked list. If the index is invalid, \n",
    "        return -1.\n",
    "        \"\"\"\n",
    "        # Set the cur to the head of the list.\n",
    "        cur = self.head\n",
    "\n",
    "        # Iterate through the list and return.\n",
    "        for i in range(0,index):\n",
    "            # print(cur.data)\n",
    "            cur = cur.next\n",
    "        return cur.data\n",
    "\n",
    "    def print(self) -> None:\n",
    "        \"\"\"\n",
    "        int get(int index) Get the value of the indexth\n",
    "        node in the linked list. If the index is invalid, \n",
    "        return -1.\n",
    "        \"\"\"\n",
    "        # Iterate through the list and print.\n",
    "        temp = self.head\n",
    "        while (temp):\n",
    "            print (temp.data)\n",
    "            temp = temp.next\n",
    "\n",
    "    def addAtHead(self, val: int) -> None:\n",
    "        \"\"\"Adding a node to the head of a linked list.\"\"\"\n",
    "        temp = self.head\n",
    "        self.head = Node(val)\n",
    "        self.head.next = temp\n",
    "\n",
    "    def addAtTail(self, val: int) -> None:\n",
    "        \"\"\"Adding a node to the head of a linked list.\"\"\"\n",
    "        temp = self.head\n",
    "        \n",
    "        added = False\n",
    "        while added == False:\n",
    "            print (temp.data)\n",
    "            if temp.next == None:\n",
    "                temp.next = Node(val)\n",
    "                added = True\n",
    "        \n",
    "\n",
    "if __name__=='__main__':\n",
    " \n",
    "    # Start with the empty list\n",
    "    llist = LinkedList()\n",
    " \n",
    "    llist.head = Node(11)\n",
    "    second = Node(22)\n",
    "    third = Node(33)\n",
    "    fourth = Node(44)\n",
    " \n",
    "    llist.head.next = second\n",
    "    second.next = third\n",
    "    third.next = fourth\n",
    "\n",
    "    print(llist.get(2))\n",
    "    llist.addAtHead(55)\n",
    "    llist.addAtTail(66)\n",
    "    llist.print()\n"
   ]
  },
  {
   "cell_type": "code",
   "execution_count": 4,
   "metadata": {},
   "outputs": [
    {
     "ename": "AttributeError",
     "evalue": "'dict' object has no attribute 'item'",
     "output_type": "error",
     "traceback": [
      "\u001b[0;31m---------------------------------------------------------------------------\u001b[0m",
      "\u001b[0;31mAttributeError\u001b[0m                            Traceback (most recent call last)",
      "\u001b[1;32m/workspaces/interview-practise/interviews/leetcode/linked_lists/design_linked_list.ipynb Cell 2'\u001b[0m in \u001b[0;36m<cell line: 3>\u001b[0;34m()\u001b[0m\n\u001b[1;32m      <a href='vscode-notebook-cell://dev-container%2B2f55736572732f6b6176692f776f726b7370616365732f706572736f6e616c2f696e746572766965772d7072616374697365/workspaces/interview-practise/interviews/leetcode/linked_lists/design_linked_list.ipynb#ch0000001vscode-remote?line=0'>1</a>\u001b[0m results  \u001b[39m=\u001b[39m {}\n\u001b[1;32m      <a href='vscode-notebook-cell://dev-container%2B2f55736572732f6b6176692f776f726b7370616365732f706572736f6e616c2f696e746572766965772d7072616374697365/workspaces/interview-practise/interviews/leetcode/linked_lists/design_linked_list.ipynb#ch0000001vscode-remote?line=1'>2</a>\u001b[0m results[\u001b[39m'\u001b[39m\u001b[39m1\u001b[39m\u001b[39m'\u001b[39m] \u001b[39m=\u001b[39m\u001b[39m2\u001b[39m\n\u001b[0;32m----> <a href='vscode-notebook-cell://dev-container%2B2f55736572732f6b6176692f776f726b7370616365732f706572736f6e616c2f696e746572766965772d7072616374697365/workspaces/interview-practise/interviews/leetcode/linked_lists/design_linked_list.ipynb#ch0000001vscode-remote?line=2'>3</a>\u001b[0m \u001b[39m2\u001b[39m \u001b[39min\u001b[39;00m results\u001b[39m.\u001b[39;49mitem()\n",
      "\u001b[0;31mAttributeError\u001b[0m: 'dict' object has no attribute 'item'"
     ]
    }
   ],
   "source": [
    "results  = {}\n",
    "results['1'] =2\n",
    "2 in results.item()"
   ]
  },
  {
   "cell_type": "code",
   "execution_count": null,
   "metadata": {},
   "outputs": [],
   "source": []
  },
  {
   "cell_type": "code",
   "execution_count": null,
   "metadata": {},
   "outputs": [],
   "source": []
  },
  {
   "cell_type": "markdown",
   "metadata": {},
   "source": []
  },
  {
   "cell_type": "code",
   "execution_count": null,
   "metadata": {},
   "outputs": [],
   "source": []
  }
 ],
 "metadata": {
  "interpreter": {
   "hash": "949777d72b0d2535278d3dc13498b2535136f6dfe0678499012e853ee9abcab1"
  },
  "kernelspec": {
   "display_name": "Python 3.8.13 64-bit",
   "language": "python",
   "name": "python3"
  },
  "language_info": {
   "codemirror_mode": {
    "name": "ipython",
    "version": 3
   },
   "file_extension": ".py",
   "mimetype": "text/x-python",
   "name": "python",
   "nbconvert_exporter": "python",
   "pygments_lexer": "ipython3",
   "version": "3.8.13"
  },
  "orig_nbformat": 4
 },
 "nbformat": 4,
 "nbformat_minor": 2
}
