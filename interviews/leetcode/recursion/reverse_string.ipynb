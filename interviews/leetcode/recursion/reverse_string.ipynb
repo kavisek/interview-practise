{
 "cells": [
  {
   "cell_type": "markdown",
   "id": "d9debb4d",
   "metadata": {},
   "source": [
    "- The entire logic for reversing a string is based on using the opposite directional two-pointer approach!"
   ]
  },
  {
   "cell_type": "code",
   "execution_count": 1,
   "id": "stunning-modeling",
   "metadata": {},
   "outputs": [],
   "source": [
    "case1 = \"hello\""
   ]
  },
  {
   "cell_type": "code",
   "execution_count": 6,
   "id": "color-calcium",
   "metadata": {},
   "outputs": [
    {
     "data": {
      "text/plain": [
       "'olleh'"
      ]
     },
     "execution_count": 6,
     "metadata": {},
     "output_type": "execute_result"
    }
   ],
   "source": [
    "from typing import List\n",
    "\n",
    "\n",
    "class Solution:\n",
    "    def reverseString(self, s: List[str]) -> None:\n",
    "        \"\"\"\n",
    "        Do not return anything, modify s in-place instead.\n",
    "        \"\"\"\n",
    "        s = s[::-1]\n",
    "        return s\n",
    "\n",
    "\n",
    "solution = Solution()\n",
    "solution.reverseString(case1)"
   ]
  },
  {
   "cell_type": "code",
   "execution_count": null,
   "id": "213640f3",
   "metadata": {},
   "outputs": [],
   "source": [
    "# final answer\n",
    "\n",
    "\n",
    "class Solution:\n",
    "    def reverseString(self, s: List[str]) -> None:\n",
    "        \"\"\"\n",
    "        Do not return anything, modify s in-place instead.\n",
    "        \"\"\"\n",
    "        s = s[::-1]"
   ]
  },
  {
   "cell_type": "markdown",
   "id": "f1d9998a",
   "metadata": {},
   "source": [
    "### Better Solution"
   ]
  },
  {
   "cell_type": "code",
   "execution_count": 39,
   "id": "5192aba0",
   "metadata": {},
   "outputs": [],
   "source": [
    "case1 = [\"h\", \"e\", \"l\", \"l\", \"o\"]"
   ]
  },
  {
   "cell_type": "code",
   "execution_count": 43,
   "id": "7e311d2d",
   "metadata": {},
   "outputs": [],
   "source": [
    "class Solution:\n",
    "    def reverseString(self, s):\n",
    "        \"\"\"\n",
    "        :type s: List[str]\n",
    "        :rtype: void Do not return anything, modify s in-place instead.\n",
    "        \"\"\"\n",
    "\n",
    "        def helper(start, end, ls):\n",
    "            if start >= end:\n",
    "                return\n",
    "\n",
    "            # swap the first and last element\n",
    "            ls[start], ls[end] = ls[end], ls[start]\n",
    "            return helper(start + 1, end - 1, ls)\n",
    "\n",
    "        helper(0, len(s) - 1, s)\n",
    "\n",
    "\n",
    "solution = Solution()\n",
    "solution.reverseString(case1)"
   ]
  },
  {
   "cell_type": "code",
   "execution_count": null,
   "id": "9ae8e0b4",
   "metadata": {},
   "outputs": [],
   "source": []
  }
 ],
 "metadata": {
  "kernelspec": {
   "display_name": "Python 3 (ipykernel)",
   "language": "python",
   "name": "python3"
  },
  "language_info": {
   "codemirror_mode": {
    "name": "ipython",
    "version": 3
   },
   "file_extension": ".py",
   "mimetype": "text/x-python",
   "name": "python",
   "nbconvert_exporter": "python",
   "pygments_lexer": "ipython3",
   "version": "3.8.13"
  }
 },
 "nbformat": 4,
 "nbformat_minor": 5
}
