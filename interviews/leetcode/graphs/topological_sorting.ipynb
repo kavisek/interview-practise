{
 "cells": [
  {
   "cell_type": "markdown",
   "metadata": {},
   "source": [
    "Khan's Alogirithim"
   ]
  },
  {
   "cell_type": "code",
   "execution_count": null,
   "metadata": {},
   "outputs": [],
   "source": [
    "class Solution:\n",
    "    def findOrder(self, num_courses: int, prerequisites: List[List[int]]) -> List[int]:\n",
    "        result = [0] * num_courses\n",
    "        if num_courses == 0:\n",
    "            return result\n",
    "\n",
    "        if not prerequisites:\n",
    "            result = [i for i in range(num_courses)]\n",
    "            return result\n",
    "\n",
    "        indegree = [0] * num_courses\n",
    "        zero_degree = deque()\n",
    "        for pre in prerequisites:\n",
    "            indegree[pre[0]] += 1\n",
    "        for i in range(len(indegree)):\n",
    "            if indegree[i] == 0:\n",
    "                zero_degree.append(i)\n",
    "        if not zero_degree:\n",
    "            return []\n",
    "\n",
    "        index = 0\n",
    "        while zero_degree:\n",
    "            course = zero_degree.popleft()\n",
    "            result[index] = course\n",
    "            index += 1\n",
    "            for pre in prerequisites:\n",
    "                if pre[1] == course:\n",
    "                    indegree[pre[0]] -= 1\n",
    "                    if indegree[pre[0]] == 0:\n",
    "                        zero_degree.append(pre[0])\n",
    "\n",
    "        if any(i for i in indegree): \n",
    "            return []\n",
    "            \n",
    "        return result"
   ]
  }
 ],
 "metadata": {
  "language_info": {
   "name": "python"
  },
  "orig_nbformat": 4
 },
 "nbformat": 4,
 "nbformat_minor": 2
}
